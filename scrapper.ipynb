{
 "cells": [
  {
   "cell_type": "markdown",
   "metadata": {},
   "source": [
    "### Import pakietów"
   ]
  },
  {
   "cell_type": "code",
   "execution_count": 42,
   "metadata": {},
   "outputs": [],
   "source": [
    "import os\n",
    "import json\n",
    "import requests\n",
    "from bs4 import BeautifulSoup"
   ]
  },
  {
   "cell_type": "markdown",
   "metadata": {},
   "source": [
    "### Proces ekstrakcji opinii o produkcie ze strony Ceneo.pl"
   ]
  },
  {
   "cell_type": "code",
   "execution_count": 43,
   "metadata": {},
   "outputs": [],
   "source": [
    "with open(\"./headers.json\", \"r\") as jf:\n",
    "    headers = json.load(jf)"
   ]
  },
  {
   "cell_type": "code",
   "execution_count": 44,
   "metadata": {},
   "outputs": [
    {
     "name": "stdout",
     "output_type": "stream",
     "text": [
      "https://www.ceneo.pl/84514582#tab=reviews\n",
      "https://www.ceneo.pl/84514582/opinie-2\n",
      "https://www.ceneo.pl/84514582/opinie-3\n",
      "https://www.ceneo.pl/84514582/opinie-4\n",
      "https://www.ceneo.pl/84514582/opinie-5\n",
      "https://www.ceneo.pl/84514582/opinie-6\n",
      "https://www.ceneo.pl/84514582/opinie-7\n",
      "https://www.ceneo.pl/84514582/opinie-8\n",
      "https://www.ceneo.pl/84514582/opinie-9\n"
     ]
    }
   ],
   "source": [
    "product_id = \"84514582\"\n",
    "next_page = f\"https://www.ceneo.pl/{product_id}#tab=reviews\"\n",
    "all_opinions = []\n",
    "    \n",
    "while next_page:\n",
    "\n",
    "    print(next_page)\n",
    "    \n",
    "    response = requests.get(next_page, headers=headers)\n",
    "\n",
    "    if response.status_code == 200:\n",
    "        page_dom = BeautifulSoup(response.text, \"html.parser\")\n",
    "        opinions = page_dom.select(\"div.js_product-review:not(.user-post--highlight)\")\n",
    "\n",
    "        for opinion in opinions:\n",
    "            try:\n",
    "                single_opinion = {\n",
    "                    \"author\" : opinion.select_one(\"span.user-post__author-name\").text.strip(),\n",
    "                    \"recommendation\" :  opinion.select_one(\"span.user-post__author-recomendation > em\").text.strip(),\n",
    "                    \"stars\" : opinion.select_one(\"span.user-post__score-count\").text.strip(),\n",
    "                    \"content\" : opinion.select_one(\"div.user-post__text\").text.strip(),\n",
    "                    \"pros\" : [p.text.strip() for p in opinion.select(\"div.review-feature__item--positive\")],\n",
    "                    \"cons\" : [c.text.strip() for c in opinion.select(\"div.review-feature__item--negative\")],\n",
    "                    \"useful\" : opinion.select_one(\"button.vote-yes > span\").text.strip(),\n",
    "                    \"unuseful\" : opinion.select_one(\"button.vote-no > span\").text.strip(),\n",
    "                    \"post_date\" : opinion.select_one(\"span.user-post__published > time:nth-of-type(1)\")['datetime'].strip(),\n",
    "                    \"purchase_date\" : opinion.select_one(\"span.user-post__published > time:nth-of-type(2)\")['datetime'].strip(),\n",
    "                }\n",
    "                \n",
    "                all_opinions.append(single_opinion)\n",
    "            except (AttributeError, TypeError):\n",
    "                pass\n",
    "\n",
    "            try:\n",
    "                next_page = \"https://www.ceneo.pl\"+page_dom.select_one(\"a.pagination__next\")[\"href\"]\n",
    "            except TypeError:\n",
    "                next_page = None\n",
    "    else: print(response.status_code)\n"
   ]
  },
  {
   "cell_type": "markdown",
   "metadata": {},
   "source": [
    "### Zapisanie wyników do bazy danych"
   ]
  },
  {
   "cell_type": "code",
   "execution_count": 45,
   "metadata": {},
   "outputs": [],
   "source": [
    "if not os.path.exists(\"./opinions\"):\n",
    "    os.mkdir(\"./opinions\")"
   ]
  },
  {
   "cell_type": "code",
   "execution_count": 46,
   "metadata": {},
   "outputs": [],
   "source": [
    "with open(f\"./opinions/{product_id}.json\", \"w\", encoding=\"UTF-8\") as jf:\n",
    "    json.dump(all_opinions, jf, indent=4, ensure_ascii=False)"
   ]
  }
 ],
 "metadata": {
  "kernelspec": {
   "display_name": ".venv",
   "language": "python",
   "name": "python3"
  },
  "language_info": {
   "codemirror_mode": {
    "name": "ipython",
    "version": 3
   },
   "file_extension": ".py",
   "mimetype": "text/x-python",
   "name": "python",
   "nbconvert_exporter": "python",
   "pygments_lexer": "ipython3",
   "version": "3.11.4"
  }
 },
 "nbformat": 4,
 "nbformat_minor": 2
}
