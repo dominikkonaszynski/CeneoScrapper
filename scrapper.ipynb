{
 "cells": [
  {
   "cell_type": "markdown",
   "metadata": {},
   "source": [
    "### Import pakietów"
   ]
  },
  {
   "cell_type": "code",
   "execution_count": 1,
   "metadata": {},
   "outputs": [],
   "source": [
    "import os\n",
    "import json\n",
    "import requests\n",
    "from bs4 import BeautifulSoup"
   ]
  },
  {
   "cell_type": "markdown",
   "metadata": {},
   "source": [
    "### Narzędzia "
   ]
  },
  {
   "cell_type": "code",
   "execution_count": 2,
   "metadata": {},
   "outputs": [],
   "source": [
    "def extract(ancestor, selector = None, attribute = None, multiple = False):\n",
    "    if selector:\n",
    "        if multiple:\n",
    "            if attribute:\n",
    "                return [tag[attribute].strip() for tag in ancestor.select(selector)]\n",
    "            return [tag.text.strip() for tag in ancestor.select(selector)]\n",
    "        if attribute:\n",
    "            try:\n",
    "                return ancestor.select_one(selector)[attribute].strip(),\n",
    "            except TypeError:\n",
    "                return None\n",
    "        try:\n",
    "            return ancestor.select_one(selector).text.strip()\n",
    "        except AttributeError:\n",
    "            return None\n",
    "\n",
    "    if attribute:\n",
    "        return selector[attribute]\n",
    "    return ancestor.text.strip()\n",
    "    "
   ]
  },
  {
   "cell_type": "code",
   "execution_count": 3,
   "metadata": {},
   "outputs": [],
   "source": [
    "selectors = {\n",
    "    \"opinion_id\": (None, 'data-entry-id'),\n",
    "    \"author\" : (\"span.user-post__author-name\"),\n",
    "    \"recommendation\" : (\"span.user-post__author-recomendation > em\"),\n",
    "    \"stars\" : (\"span.user-post__score-count\",),\n",
    "    \"content\" : (\"div.user-post__text\",),\n",
    "    \"pros\" : (\"div.review-feature__item--positive\", None, True),\n",
    "    \"cons\" : (\"div.review-feature__item--negative\", None, True),\n",
    "    \"useful\" : (\"button.vote-yes > span\",),\n",
    "    \"unuseful\" : (\"button.vote-no > span\",),\n",
    "    \"post_date\" : (\"span.user-post__published > time:nth-of-type(1)\",'datetime'),\n",
    "    \"purchase_date\" : (\"span.user-post__published > time:nth-of-type(2)\",'datetime'),\n",
    "}"
   ]
  },
  {
   "cell_type": "markdown",
   "metadata": {},
   "source": [
    "### Proces ekstrakcji opinii o produkcie ze strony Ceneo.pl"
   ]
  },
  {
   "cell_type": "code",
   "execution_count": null,
   "metadata": {},
   "outputs": [],
   "source": [
    "with open(\"./headers.json\", \"r\") as jf:\n",
    "    headers = json.load(jf)"
   ]
  },
  {
   "cell_type": "code",
   "execution_count": null,
   "metadata": {},
   "outputs": [],
   "source": [
    "product_id = \"84514582\"\n",
    "next_page = f\"https://www.ceneo.pl/{product_id}#tab=reviews\"\n",
    "all_opinions = []\n",
    "    \n",
    "while next_page:\n",
    "\n",
    "    print(next_page)\n",
    "    \n",
    "    response = requests.get(next_page, headers=headers)\n",
    "\n",
    "    if response.status_code == 200:\n",
    "\n",
    "        page_dom = BeautifulSoup(response.text, \"html.parser\")\n",
    "\n",
    "        opinions = page_dom.select(\"div.js_product-review:not(.user-post--highlight)\")\n",
    "\n",
    "        for opinion in opinions:\n",
    "            single_opinion = {\n",
    "                key: extract(opinion, *value)\n",
    "                for key,value in selectors.items()\n",
    "\n",
    "            }\n",
    "                \n",
    "            all_opinions.append(single_opinion)\n",
    "        try:\n",
    "            next_page = \"https://www.ceneo.pl\"+extract(page_dom, \"a.pagination__next\", \"href\")\n",
    "        except TypeError:\n",
    "            next_page = None\n",
    "    else: \n",
    "        print(response.status_code)\n"
   ]
  },
  {
   "cell_type": "markdown",
   "metadata": {},
   "source": [
    "### Zapisanie wyników do bazy danych"
   ]
  },
  {
   "cell_type": "code",
   "execution_count": 6,
   "metadata": {},
   "outputs": [],
   "source": [
    "if not os.path.exists(\"./opinions\"):\n",
    "    os.mkdir(\"./opinions\")"
   ]
  },
  {
   "cell_type": "code",
   "execution_count": null,
   "metadata": {},
   "outputs": [],
   "source": [
    "with open(f\"./opinions/{product_id}.json\", \"w\", encoding=\"UTF-8\") as jf:\n",
    "    json.dump(all_opinions, jf, indent=4, ensure_ascii=False)"
   ]
  }
 ],
 "metadata": {
  "kernelspec": {
   "display_name": ".venv",
   "language": "python",
   "name": "python3"
  },
  "language_info": {
   "codemirror_mode": {
    "name": "ipython",
    "version": 3
   },
   "file_extension": ".py",
   "mimetype": "text/x-python",
   "name": "python",
   "nbconvert_exporter": "python",
   "pygments_lexer": "ipython3",
   "version": "3.11.0"
  }
 },
 "nbformat": 4,
 "nbformat_minor": 2
}
