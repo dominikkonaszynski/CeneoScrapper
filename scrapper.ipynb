{
 "cells": [
  {
   "cell_type": "markdown",
   "metadata": {},
   "source": [
    "### Import bibliotek"
   ]
  },
  {
   "cell_type": "code",
   "execution_count": 7,
   "metadata": {},
   "outputs": [],
   "source": [
    "import requests\n",
    "from bs4 import BeautifulSoup"
   ]
  },
  {
   "cell_type": "markdown",
   "metadata": {},
   "source": [
    "### Wysłanie żądania dostępu do strony internetowej z opiniami o produkcie"
   ]
  },
  {
   "cell_type": "code",
   "execution_count": 3,
   "metadata": {},
   "outputs": [
    {
     "data": {
      "text/plain": [
       "200"
      ]
     },
     "execution_count": 3,
     "metadata": {},
     "output_type": "execute_result"
    }
   ],
   "source": [
    "url = \"https://www.ceneo.pl/84514582#tab=reviews\"\n",
    "response = requests.get(url)\n",
    "response.status_code"
   ]
  },
  {
   "cell_type": "markdown",
   "metadata": {},
   "source": [
    "### Jeżeli operacja zakończy się powodzeniem"
   ]
  },
  {
   "cell_type": "code",
   "execution_count": 24,
   "metadata": {},
   "outputs": [],
   "source": [
    "if response.status_code == 200:\n",
    "    page_dom = BeautifulSoup(response.text, \"html.parser\")\n",
    "    opinions = page_dom.select(\"div.js_product-review:not(.user-post--highlight)\")"
   ]
  },
  {
   "cell_type": "markdown",
   "metadata": {},
   "source": [
    "### Dla każdej opinii wyodrębnienie z kodu HTML poszczególnych składowych i przypisanie ich do elementów złożonej struktury danych"
   ]
  },
  {
   "cell_type": "code",
   "execution_count": 44,
   "metadata": {},
   "outputs": [
    {
     "name": "stdout",
     "output_type": "stream",
     "text": [
      "{'Author': 'U...o', 'Recommendation': 'Polecam', 'Stars': '4,5/5', 'Content': 'Po 1 dniu uzytkowania mozna stwierdzic 1-polaczenie z kompem poprzez wi fi-bez problemu\\n2-tankowanie zbiorniczkow-bez problemu\\n3-montaz ,,glowic,,-beznadziejny dostep,jakies pomaranczowe badziewie ciezko wydostac z wnetrza drukarki(po cholere takie zabezpieczenie)ale udalo sie\\n4-polaczenie z telefonem -bez problemu\\n5-jak z kompa tak i z telefonu(za posrednictwem aplikacji  HP SMART) bez problemow\\n6-druk na zwyklym papierze spoko (czern i kolor )\\n7-po testach na papierze foto -zobaczymy\\n8-ogolnie -za taka kase polecam', 'Pros': ['czyste napełnianie atramentem'], 'Cons': ['głośność pracy'], 'Useful': '0', 'Useless': '0', 'Post_date': '2 lata temu,', 'Purchase_date': 'po 3 dniach'}\n",
      "{'Author': 'Użytkownik Ceneo', 'Recommendation': 'Polecam', 'Stars': '4/5', 'Content': 'Bardzo wydajna i oszczędna drukarka. Solidna, dobra jakość wykonania.\\nDługo się czeka przy włączeniu zanim będzie gotowa do pracy. Dość głośna.', 'Pros': ['jakość wydruków'], 'Cons': ['głośność pracy'], 'Useful': '1', 'Useless': '1', 'Post_date': '4 lata temu,', 'Purchase_date': 'po miesiącu'}\n"
     ]
    }
   ],
   "source": [
    "for opinion in opinions:\n",
    "    try:\n",
    "        single_opinion = {\n",
    "            \"Author\": opinion.select_one(\"span.user-post__author-name\").text.strip(),\n",
    "            \"Recommendation\": opinion.select_one(\"span.user-post__author-recomendation > em\").text.strip(),\n",
    "            \"Stars\": opinion.select_one(\"span.user-post__score-count\").text.strip(),\n",
    "            \"Content\": opinion.select_one(\"div.user-post__text\").text.strip(),\n",
    "            \"Pros\": [p.text.strip() for p in opinion.select_one(\"div.review-feature__item--positive\")],\n",
    "            \"Cons\": [c.text.strip() for c in opinion.select_one(\"div.review-feature__item--negative\")],\n",
    "            \"Useful\": opinion.select_one(\"button.vote-yes > span\").text.strip(),\n",
    "            \"Useless\": opinion.select_one(\"button.vote-no > span\").text.strip(),\n",
    "            \"Post_date\": opinion.select_one(\"span.user-post__published > time:nth-child(1)[datetime]\").text.strip(),\n",
    "            \"Purchase_date\": opinion.select_one(\"span.user-post__published > time:nth-child(2)[datetime]\").text.strip(),\n",
    "    }\n",
    "        print(single_opinion)\n",
    "    except (AttributeError, TypeError):\n",
    "        pass"
   ]
  },
  {
   "cell_type": "code",
   "execution_count": 20,
   "metadata": {},
   "outputs": [
    {
     "name": "stdout",
     "output_type": "stream",
     "text": [
      "<class 'bs4.element.Tag'>\n"
     ]
    }
   ],
   "source": [
    "print(type(single_opinion[\"author\"]))"
   ]
  }
 ],
 "metadata": {
  "kernelspec": {
   "display_name": ".venv",
   "language": "python",
   "name": "python3"
  },
  "language_info": {
   "codemirror_mode": {
    "name": "ipython",
    "version": 3
   },
   "file_extension": ".py",
   "mimetype": "text/x-python",
   "name": "python",
   "nbconvert_exporter": "python",
   "pygments_lexer": "ipython3",
   "version": "3.11.4"
  }
 },
 "nbformat": 4,
 "nbformat_minor": 2
}
